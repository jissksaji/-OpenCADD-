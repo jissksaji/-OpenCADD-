{
 "cells": [
  {
   "cell_type": "code",
   "execution_count": null,
   "metadata": {},
   "outputs": [],
   "source": []
  }
 ],
 "metadata": {
  "kernelspec": {
   "display_name": "Python 3",
   "language": "python",
   "name": "python3"
  },
  "language_info": {
   "name": "python",
   "version": "3.11.1"
  },
  "orig_nbformat": 4,
  "vscode": {
   "interpreter": {
    "hash": "e2677bff3bc3f69f81218d4adfc8ca8ef7942fa86a20087dc06b179e31e47be2"
   }
  }
 },
 "nbformat": 4,
 "nbformat_minor": 2
}
